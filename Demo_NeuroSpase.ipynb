{
  "nbformat": 4,
  "nbformat_minor": 0,
  "metadata": {
    "colab": {
      "provenance": [],
      "collapsed_sections": [
        "TWByGaERYLgn",
        "V18ij7XHf9lV",
        "yiqNQOe7XCfR",
        "bknV-LkhQnlY",
        "pg1bUuT4o62B",
        "IbHOP-3ydBva",
        "i1dw-g4eV-YN",
        "wqjpW2ufgc1S",
        "AscsKhpVXc-n",
        "15Ov-DlkRZEO",
        "tYtVuL1DlYtx",
        "x5u7D9k9fxde"
      ],
      "mount_file_id": "1J5hT_moslX8JA8psisv0boOpUtmn49DG",
      "authorship_tag": "ABX9TyOsNrzcdOQLYINEB3T5RziG",
      "include_colab_link": true
    },
    "kernelspec": {
      "name": "python3",
      "display_name": "Python 3"
    },
    "language_info": {
      "name": "python"
    }
  },
  "cells": [
    {
      "cell_type": "markdown",
      "metadata": {
        "id": "view-in-github",
        "colab_type": "text"
      },
      "source": [
        "<a href=\"https://colab.research.google.com/github/Regent87/Neuro_Spase/blob/main/Demo_NeuroSpase.ipynb\" target=\"_parent\"><img src=\"https://colab.research.google.com/assets/colab-badge.svg\" alt=\"Open In Colab\"/></a>"
      ]
    },
    {
      "cell_type": "markdown",
      "source": [
        "**Выполните ячейку что бы загрузить файлы с сеансами видимости спутник станция**"
      ],
      "metadata": {
        "id": "cdpqK3VhUB7d"
      }
    },
    {
      "cell_type": "code",
      "execution_count": null,
      "metadata": {
        "id": "TZ743epvEhUS"
      },
      "outputs": [],
      "source": [
        "from google.colab import files\n",
        "#Загрузка файлов с сеансами видимости спутник-станция\n",
        "#Обязательно дождитесь конца загрузки\n",
        "uploaded = files.upload()\n"
      ]
    },
    {
      "cell_type": "markdown",
      "source": [
        "**Выполнити ячейку что бы загрузить файлы с сеансами пересечения границы России**"
      ],
      "metadata": {
        "id": "VLIdJAkOUYOw"
      }
    },
    {
      "cell_type": "code",
      "source": [
        "#Загрузка файлов с сеансами пересечения границ России\n",
        "uploaded2 = files.upload()"
      ],
      "metadata": {
        "id": "LLJSXD5qUTE5"
      },
      "execution_count": null,
      "outputs": []
    },
    {
      "cell_type": "markdown",
      "source": [
        "# Запустите ячейку что бы выполнить программу"
      ],
      "metadata": {
        "id": "TWByGaERYLgn"
      }
    },
    {
      "cell_type": "markdown",
      "source": [
        "## Зазружаем библиотеки и функции"
      ],
      "metadata": {
        "id": "V18ij7XHf9lV"
      }
    },
    {
      "cell_type": "markdown",
      "source": [
        "### Загружаем библиотеки"
      ],
      "metadata": {
        "id": "yiqNQOe7XCfR"
      }
    },
    {
      "cell_type": "code",
      "source": [
        "from pprint import pprint\n",
        "import pandas as pd\n",
        "import datetime\n",
        "import math\n",
        "import os"
      ],
      "metadata": {
        "id": "0xtvqlNGKjgq"
      },
      "execution_count": 6,
      "outputs": []
    },
    {
      "cell_type": "markdown",
      "source": [
        "### Функция переписывает файлы в папке txt в csv файлы"
      ],
      "metadata": {
        "id": "bknV-LkhQnlY"
      }
    },
    {
      "cell_type": "code",
      "source": [
        "def txt_to_csv(way, mod=0): # mod= 0 для файлов границ россии\n",
        "                            # mod = 1 для файлов с окнами связи спутник-станция\n",
        "  # На вход принимает путь к txt файлу.\n",
        "  t1 = datetime.time(9,0,0,0)\n",
        "  t2 = datetime.time(18,0,0,0)\n",
        "  sl_data = []\n",
        "  data = []\n",
        "  data1 = []\n",
        "  name = []\n",
        "  name1 = []\n",
        "  access = []\n",
        "  start_time = []\n",
        "  stop_time = []\n",
        "  duration = []\n",
        "  duration_bit = []\n",
        "  with open(way) as f:\n",
        "    m = f.readlines()\n",
        "    for i in range(3, len(m)):\n",
        "      if '-To-' in m[i]:\n",
        "        sl_data.append(m[i])\n",
        "        st_sp = m[i][:-1].split('-To-')\n",
        "        if st_sp[0] not in data:\n",
        "          data.append(st_sp[0])\n",
        "        if st_sp[1][-6:] not in data1:\n",
        "          data1.append(int(st_sp[1][-6:]))\n",
        "\n",
        "    for i in range(len(sl_data)-1):\n",
        "      st_sp = sl_data[i][:-1].split('-To-')\n",
        "      for j in range(m.index(sl_data[i])+4, m.index(sl_data[i+1])-7):\n",
        "        name.append(st_sp[0])\n",
        "        name1.append(int(st_sp[1][-6:]))\n",
        "        access.append(int(m[j][:24]))\n",
        "        t_s0 = datetime.datetime.strptime(m[j][28:52], '%d %b %Y %H:%M:%S.%f')\n",
        "        t_s1 = datetime.datetime.strptime(m[j][56:80], '%d %b %Y %H:%M:%S.%f')\n",
        "        time1 = datetime.datetime.combine(t_s0.date(), t1)\n",
        "        time2 = datetime.datetime.combine(t_s0.date(), t2)\n",
        "\n",
        "        start_time.append(t_s0)\n",
        "        stop_time.append(t_s1)\n",
        "        duration.append(float(m[j][81:]))\n",
        "\n",
        "        if mod == 0:\n",
        "          duration_bit.append(float(m[j][81:])*4)\n",
        "        else:\n",
        "          if int(st_sp[1][-6:]) < 110600:  \n",
        "            duration_bit.append(float(m[j][81:]))\n",
        "          else:\n",
        "            duration_bit.append(float(m[j][81:])*0.25)\n",
        "\n",
        "    i = len(sl_data)-1\n",
        "\n",
        "    for k in range(m.index(sl_data[i])+4, len(m)-12):\n",
        "      st_sp = sl_data[i][:-1].split('-To-')\n",
        "      name.append(st_sp[0])\n",
        "      name1.append(int(st_sp[1][-6:]))\n",
        "      access.append(int(m[k][:24]))\n",
        "      t_s0 = datetime.datetime.strptime(m[k][28:52], '%d %b %Y %H:%M:%S.%f')\n",
        "      t_s1 = datetime.datetime.strptime(m[k][56:80], '%d %b %Y %H:%M:%S.%f')\n",
        "      time1 = datetime.datetime.combine(t_s0.date(), t1)\n",
        "      time2 = datetime.datetime.combine(t_s0.date(), t2)\n",
        "      start_time.append(t_s0)\n",
        "      stop_time.append(t_s1)\n",
        "      duration.append(float(m[k][81:]))\n",
        "\n",
        "      if mod == 0:\n",
        "        duration_bit.append(float(m[k][81:])*4)\n",
        "\n",
        "\n",
        "      else:\n",
        "        if int(st_sp[1][-6:]) < 110600:\n",
        "          duration_bit.append(float(m[j][81:]))\n",
        "        else:\n",
        "          duration_bit.append(float(m[j][81:])*0.25)\n",
        "\n",
        "  data_fr = {'Name_station': name, 'Name_sat': name1, 'Access': access, 'Start Time':  start_time, 'Stop Time': stop_time, 'Duration': duration, 'Duration_bit': duration_bit}\n",
        "  # возвращает датафрейм\n",
        "  if mod == 0:\n",
        "    return pd.DataFrame(data_fr), data, data1\n",
        "  else:\n",
        "    return pd.DataFrame(data_fr), data\n",
        "\n",
        "\n",
        "\n"
      ],
      "metadata": {
        "id": "nOpWt_ZXEeCN"
      },
      "execution_count": 7,
      "outputs": []
    },
    {
      "cell_type": "markdown",
      "source": [
        "### Функция генерирует датафрейм с рассписанием"
      ],
      "metadata": {
        "id": "pg1bUuT4o62B"
      }
    },
    {
      "cell_type": "code",
      "source": [
        "def Generator_timing(df_res, st, sp): # На вход принимает датафрейм с данными, список станций, список спутников\n",
        "  data_zirro_m = {'Access': [],\n",
        "                  'Start Time (UTCG)': [],\n",
        "                  'Stop Time (UTCG)': [],\n",
        "                  'Duration (sec)': [],\n",
        "                  'Sat name': [],\n",
        "                  'Data (Mbytes)': [],\n",
        "                  'Name_station': [],\n",
        "                  'Give Data':[],\n",
        "                  'Get Data':[]\n",
        "                  }\n",
        "\n",
        "  connect_dict = {}\n",
        "  for i in st:\n",
        "    connect_dict[i] = {'Connect':{}, \n",
        "                      'Vis_sat': {}}\n",
        "\n",
        "  sat_status_dict ={}\n",
        "  for i in sp:\n",
        "    sat_status_dict[i]= Satellite(i, 0 , 0, 0, 0, 0, 0)\n",
        "\n",
        "\n",
        "  stop_time_sp = []\n",
        "  station_sp1 = []\n",
        "  station_sp = st.copy()\n",
        "  t_start = min(df_res.loc[df_res['Name_station']=='Russia']['Start Time'])\n",
        "  t_day_start = 0\n",
        "  t_day_stop = (datetime.datetime(2027,6,14,0,0,0,0) - \n",
        "                datetime.datetime(2027,6,1,0,0,0,0)).total_seconds()\n",
        "  t_delta = 83.5\n",
        "  flag = 0\n",
        "\n",
        "\n",
        "  while t_start <= t_day_stop:\n",
        "    t_stop = t_start +  t_delta\n",
        "    df_r1 = df_res.loc[(df_res['Start Time']>=t_start)&(df_res['Start Time']<=t_stop)]\n",
        "    for i in station_sp:\n",
        "      df_r = df_r1.loc[(df_r1['Name_station']==i)]\n",
        "      if i == 'Russia':\n",
        "        station_sp1.append(i)\n",
        "        for k in df_r['Name_sat']:\n",
        "          index_s = df_r.index[df_r['Name_sat'] == k].tolist()[0]\n",
        "          if (k not in connect_dict[i]['Connect'] and \n",
        "              sat_status_dict[k].connect == 0 and \n",
        "              sat_status_dict[k].data_now + df_r['Duration_bit'][index_s]<(8192, 4096)[k>110600]):\n",
        "            sat_status_dict[k].connect = i\n",
        "            sat_status_dict[k].start_time = df_r['Start Time'][index_s]\n",
        "            sat_status_dict[k].stop_time = df_r['Stop Time'][index_s]\n",
        "            sat_status_dict[k].data_now += df_r['Duration_bit'][index_s]\n",
        "            sat_status_dict[k].data_get = df_r['Duration_bit'][index_s]\n",
        "            sat_status_dict[k].data_give = 0\n",
        "            stop_time_sp.append([sat_status_dict[k].stop_time, k, i])\n",
        "            connect_dict[i]['Connect'][k] = sat_status_dict[k]\n",
        "        \n",
        "        \n",
        "      if i != 'Russia':\n",
        "        sat_sp = []\n",
        "        for k in df_r['Name_sat']:\n",
        "          index_s = df_r.index[df_r['Name_sat'] == k].tolist()[0]\n",
        "          if (k not in connect_dict[i]['Vis_sat'] and\n",
        "              sat_status_dict[k].connect == 0 and \n",
        "              sat_status_dict[k].data_now > 0):\n",
        "            data_give = (df_r['Duration_bit'][index_s], \n",
        "                        sat_status_dict[k].data_now\n",
        "                        )[df_r['Duration_bit'][index_s]>\n",
        "                          sat_status_dict[k].data_now]\n",
        "\n",
        "            if df_r['Duration_bit'][index_s] > sat_status_dict[k].data_now:\n",
        "              data_give = sat_status_dict[k].data_now\n",
        "              stop_time1 = df_r['Start Time'][index_s] + data_give/(1, 0.25)[k > 110600]\n",
        "            else:\n",
        "              data_give = df_r['Duration_bit'][index_s]\n",
        "              stop_time1 = df_r['Stop Time'][index_s]\n",
        "            connect_dict[i]['Vis_sat'][k] = Data_status(k, \n",
        "                                                        data_give, \n",
        "                                                        0, \n",
        "                                                        df_r['Start Time'][index_s], \n",
        "                                                        stop_time1)\n",
        "            sat_sp.append(connect_dict[i]['Vis_sat'][k])\n",
        "        sat_sp.sort(key = lambda x : x.data_give)\n",
        "        if len(sat_sp)==0:\n",
        "          station_sp1.append(i)\n",
        "        if len(sat_sp)>0:\n",
        "          item = sat_sp.pop()\n",
        "          k1 = item.name\n",
        "\n",
        "          sat_status_dict[k1].connect = i\n",
        "          sat_status_dict[k1].start_time = connect_dict[i]['Vis_sat'][k1].start_time\n",
        "          sat_status_dict[k1].stop_time = connect_dict[i]['Vis_sat'][k1].stop_time\n",
        "          sat_status_dict[k1].data_now -= connect_dict[i]['Vis_sat'][k1].data_give\n",
        "          sat_status_dict[k1].data_get = 0\n",
        "          sat_status_dict[k1].data_give = connect_dict[i]['Vis_sat'][k1].data_give\n",
        "          stop_time_sp.append([sat_status_dict[k1].stop_time, k1, i])\n",
        "          connect_dict[i]['Connect'][k1] = sat_status_dict[k1]\n",
        "          if (len(sat_sp)>0 and \n",
        "              sat_status_dict[k1].start_time > t_start and\n",
        "              min(sat_sp, key = lambda x : x.start_time).start_time < item.start_time):\n",
        "            sat_sp.sort(key = lambda x : (-x.start_time))\n",
        "\n",
        "            item2 = sat_sp.pop()\n",
        "            \n",
        "            l = item2.name\n",
        "      \n",
        "            sat_status_dict[l].connect = i\n",
        "            sat_status_dict[l].start_time = connect_dict[i]['Vis_sat'][l].start_time\n",
        "            \n",
        "            m = (1, 0.25)[l > 110600]\n",
        "            if connect_dict[i]['Vis_sat'][l].data_give <= (connect_dict[i]['Vis_sat'][k1].start_time - \n",
        "                                                          sat_status_dict[l].start_time)*m:\n",
        "              sat_status_dict[l].stop_time = connect_dict[i]['Vis_sat'][l].stop_time\n",
        "              sat_status_dict[l].data_give = connect_dict[i]['Vis_sat'][l].data_give\n",
        "              sat_status_dict[l].data_now -= connect_dict[i]['Vis_sat'][l].data_give\n",
        "    \n",
        "            else:\n",
        "              sat_status_dict[l].stop_time = connect_dict[i]['Vis_sat'][k1].start_time\n",
        "              sat_status_dict[l].data_give = (sat_status_dict[l].stop_time - \n",
        "                                              sat_status_dict[l].start_time)*m\n",
        "              sat_status_dict[l].data_now -= sat_status_dict[l].data_give\n",
        "            sat_status_dict[l].data_get = 0\n",
        "            connect_dict[i]['Connect'][l] = sat_status_dict[l]\n",
        "            stop_time_sp.append([sat_status_dict[l].stop_time, l, i])\n",
        "\n",
        "    stop_time_sp.sort(key= lambda x: -x[0])\n",
        "    if len(stop_time_sp) != 0:\n",
        "      item_t = stop_time_sp.pop()\n",
        "      data_zirro_m['Access'].append(flag)\n",
        "      data_zirro_m['Start Time (UTCG)'].append(datetime.datetime(2027,6,1,0,0,0,0) + datetime.timedelta(seconds=sat_status_dict[item_t[1]].start_time))\n",
        "      data_zirro_m['Stop Time (UTCG)'].append(datetime.datetime(2027,6,1,0,0,0,0) + datetime.timedelta(seconds=item_t[0]))\n",
        "      data_zirro_m['Duration (sec)'].append(item_t[0] - sat_status_dict[item_t[1]].start_time)\n",
        "      data_zirro_m['Sat name'].append(item_t[1])\n",
        "      data_zirro_m['Data (Mbytes)'].append(sat_status_dict[item_t[1]].data_now)\n",
        "      data_zirro_m['Name_station'].append(item_t[2])\n",
        "      data_zirro_m['Give Data'].append(sat_status_dict[item_t[1]].data_give)\n",
        "      data_zirro_m['Get Data'].append(sat_status_dict[item_t[1]].data_get)\n",
        "\n",
        "      sat_status_dict[item_t[1]].connect = 0\n",
        "      sat_status_dict[item_t[1]].start_time = 0\n",
        "      sat_status_dict[item_t[1]].stop_time = 0\n",
        "      sat_status_dict[item_t[1]].data_give = 0\n",
        "      sat_status_dict[item_t[1]].data_get = 0\n",
        "\n",
        "      flag+=1\n",
        "      if (item_t[2] != 'Russia' and \n",
        "          len(connect_dict[item_t[2]]['Connect'])==1):\n",
        "        station_sp1.append(item_t[2])\n",
        "\n",
        "      del connect_dict[item_t[2]]['Connect'][item_t[1]]\n",
        "      if item_t[2] != 'Russia':\n",
        "        del connect_dict[item_t[2]]['Vis_sat'][item_t[1]]\n",
        "\n",
        "\n",
        "\n",
        "      station_sp = station_sp1.copy()\n",
        "      t_start = item_t[0]\n",
        "      #print(len(station_sp1))\n",
        "      station_sp1 = []\n",
        "    \n",
        "    else:\n",
        "      station_sp = station_sp1.copy()\n",
        "      t_start += t_delta\n",
        "      #print(len(station_sp1))\n",
        "      station_sp1 = []\n",
        "  return pd.DataFrame(data_zirro_m) # возвращает датафорейм с рассписанием\n"
      ],
      "metadata": {
        "id": "GGf0BeXgj6ZP"
      },
      "execution_count": 8,
      "outputs": []
    },
    {
      "cell_type": "markdown",
      "source": [
        "### Функция генерирует txt файлы из датафрейма"
      ],
      "metadata": {
        "id": "IbHOP-3ydBva"
      }
    },
    {
      "cell_type": "code",
      "source": [
        "def csv2txt(d_frame, path, st): # на входд принимает: \n",
        "  station_sp = []\n",
        "  for station in st:            # датафрейм с рассчетами рассписания\n",
        "    if station != 'Russia':     # путь куда сохранять файлы и список станций\n",
        "      station_sp.append(f'{station}.txt')\n",
        "      with open(f'{path}{station}.txt', \"w\") as file1:\n",
        "        file1.write(f'{station}\\n')\n",
        "        file1.write('-------------------------\\n')\n",
        "        file1.write('Access        Start Time (UTCG)           Stop Time (UTCG)        Duration (sec)        Sat name        Data (Mbytes)\\n')\n",
        "        file1.write('------        -----------------           ----------------        --------------        --------        -------------\\n')\n",
        "        \n",
        "        df_writ = frame.loc[frame['Name_station'] == station]\n",
        "        for i in range(len(df_writ)):\n",
        "          \n",
        "          sat_name1 = str(df_writ['Sat name'].tolist()[i])\n",
        "          sat_name = f'KinoSat_{sat_name1}'\n",
        "\n",
        "          stop_data = df_writ['Stop Time (UTCG)'].tolist()[i].strftime(\"%d %b %Y %H:%M:%S.%f\")[:-3]\n",
        "          start_data = df_writ['Start Time (UTCG)'].tolist()[i].strftime(\"%d %b %Y %H:%M:%S.%f\")[:-3]\n",
        "          if stop_data[0]=='0':\n",
        "            stop_data = ' '+stop_data[1:]\n",
        "          if start_data[0]=='0':\n",
        "            start_data = ' '+start_data[1:]\n",
        "\n",
        "          duration = ' '*14\n",
        "          duration1 = str(round(df_writ['Duration (sec)'].tolist()[i],3))\n",
        "          duration = duration[:-len(duration1)]+duration1\n",
        "\n",
        "          data_mbytes = ' '*13\n",
        "          data_mbytes1 = str(round(df_writ['Data (Mbytes)'].tolist()[i],3))\n",
        "          data_mbytes = data_mbytes[:-len(data_mbytes1)]+data_mbytes1\n",
        "\n",
        "          access = ' '*6\n",
        "          access1 = str(i+1)\n",
        "          access = access[:-len(access1)] + access1\n",
        "\n",
        "          file1.write(f'{access}     {start_data}    {stop_data}   {duration}      {sat_name}    {data_mbytes}\\n')\n",
        "  return station_sp"
      ],
      "metadata": {
        "id": "YIDSW_UCdASp"
      },
      "execution_count": 20,
      "outputs": []
    },
    {
      "cell_type": "markdown",
      "source": [
        "### Функция генерирует 1 большой TXT со всеми данными"
      ],
      "metadata": {
        "id": "i1dw-g4eV-YN"
      }
    },
    {
      "cell_type": "code",
      "source": [
        "def csv2BigFile(path, frame):\n",
        "  with open(f'{path}/result.txt', \"w\") as file1:\n",
        "\n",
        "    file1.write('Access   Start Time (UTCG)        Stop Time (UTCG)        Duration (sec)     Sat name    Data (Mbytes)   Station    Give Data     Get Data\\n')\n",
        "    file1.write('------   -----------------        ----------------        --------------     --------    -------------   -------    ---------     --------\\n')\n",
        "\n",
        "\n",
        "    for i in range(len(frame)):\n",
        "      sat_name1 = str(frame['Sat name'].tolist()[i])\n",
        "      sat_name = f'KinoSat_{sat_name1}'\n",
        "\n",
        "      stop_data = frame['Stop Time (UTCG)'].tolist()[i].strftime(\"%d %b %Y %H:%M:%S.%f\")[:-3]\n",
        "      start_data = frame['Start Time (UTCG)'].tolist()[i].strftime(\"%d %b %Y %H:%M:%S.%f\")[:-3]\n",
        "      if stop_data[0]=='0':\n",
        "        stop_data = ' '+stop_data[1:]\n",
        "      if start_data[0]=='0':\n",
        "        start_data = ' '+start_data[1:]\n",
        "\n",
        "      duration = ' '*14\n",
        "      duration1 = str(round(frame['Duration (sec)'].tolist()[i],3))\n",
        "      duration = duration[:-len(duration1)]+duration1\n",
        "\n",
        "      data_mbytes = ' '*12\n",
        "      data_mbytes1 = str(round(frame['Data (Mbytes)'].tolist()[i],3))\n",
        "      data_mbytes = data_mbytes[:-len(data_mbytes1)]+data_mbytes1\n",
        "\n",
        "      access = ' '*6\n",
        "      access1 = str(i+1)\n",
        "      access = access[:-len(access1)] + access1\n",
        "\n",
        "      station = ' '*13\n",
        "      station1 = frame['Name_station'].tolist()[i]\n",
        "      station = station[: -len(station1)] + station1\n",
        "\n",
        "      station = ' '*13\n",
        "      station1 = frame['Name_station'].tolist()[i]\n",
        "      station = station[: -len(station1)] + station1\n",
        "\n",
        "      give = ' '*10\n",
        "      give1 = str(round(frame['Give Data'].tolist()[i],3))\n",
        "      give = give[: -len(give1)] + give1\n",
        "\n",
        "      get_d = ' '*10\n",
        "      get_d1 = str(round(frame['Get Data'].tolist()[i],3))\n",
        "      get_d = get_d[: -len(get_d1)] + get_d1\n",
        "\n",
        "      sum_giv = ' '*14\n",
        "      sum_giv1 = str(round(sum(frame['Give Data']),3))\n",
        "      sum_giv = sum_giv[: -len(sum_giv1)] + sum_giv1\n",
        "\n",
        "      sum_get = ' '*14\n",
        "      sum_get1 = str(round(sum(frame['Get Data']),3))\n",
        "      sum_get = sum_get[: -len(sum_get1)] + sum_get1\n",
        "\n",
        "      sum_dur = ' '*14\n",
        "      sum_dur1 = str(round(sum(frame['Get Data']),3))\n",
        "      sum_dur = sum_dur[: -len(sum_dur1)] + sum_dur1\n",
        "\n",
        "      file1.write(f'{access} {start_data} {stop_data}{duration}   {sat_name}{data_mbytes}{station}  {give}    {get_d}\\n')\n",
        "\n",
        "    file1.write('----------------------\\n')  \n",
        "    file1.write(f'TOTAL                                                    {sum_dur}                                      {sum_giv} {sum_get}\\n')\n",
        "      "
      ],
      "metadata": {
        "id": "0qLS4bh3V72x"
      },
      "execution_count": 10,
      "outputs": []
    },
    {
      "cell_type": "markdown",
      "source": [
        "## Начинаем выполнять программу"
      ],
      "metadata": {
        "id": "wqjpW2ufgc1S"
      }
    },
    {
      "cell_type": "markdown",
      "source": [
        "### Создаем 2 новых новый класса:\n",
        "### спутник и видымый спутник\n"
      ],
      "metadata": {
        "id": "AscsKhpVXc-n"
      }
    },
    {
      "cell_type": "code",
      "source": [
        "class Satellite:\n",
        "  def __init__(self, name, data_now, data_give, data_get, connect, start_time, stop_time):\n",
        "    self.name = name\n",
        "    self.data_now = data_now\n",
        "    self.data_give = data_give\n",
        "    self.data_get = data_get\n",
        "    self.connect = connect\n",
        "    self.start_time = start_time\n",
        "    self.stop_time = stop_time\n",
        "  def __repr__(self):\n",
        "    return repr((self.name, \n",
        "                 self.data_now, \n",
        "                 self.data_give, \n",
        "                 self.data_get, \n",
        "                 self.connect,\n",
        "                 self.start_time,\n",
        "                 self.stop_time))\n",
        "class Data_status:\n",
        "  def __init__(self, name, data_give, data_get, start_time, stop_time):\n",
        "    self.name = name\n",
        "    self.data_give = data_give\n",
        "    self.data_get = data_get\n",
        "    self.start_time = start_time\n",
        "    self.stop_time = stop_time\n",
        "  def __repr__(self):\n",
        "    return repr((self.name, \n",
        "                 self.data_give, \n",
        "                 self.data_get, \n",
        "                 self.start_time,\n",
        "                 self.stop_time))"
      ],
      "metadata": {
        "id": "xcaVKtcBF-hE"
      },
      "execution_count": 11,
      "outputs": []
    },
    {
      "cell_type": "markdown",
      "source": [
        "### Создаем датафрейм"
      ],
      "metadata": {
        "id": "15Ov-DlkRZEO"
      }
    },
    {
      "cell_type": "code",
      "source": [
        "Rus = []\n",
        "fac = []\n",
        "st, sp = [], []\n",
        "for i in uploaded2:\n",
        "  Rus.append(i)\n",
        "for i in uploaded:\n",
        "  fac.append(i)\n",
        "\n",
        "df1, st, sp = txt_to_csv(Rus[0])\n",
        "for i in range(1, len(Rus)):\n",
        "  df2, st2, sp2 = txt_to_csv(Rus[i])\n",
        "  if st2[0] not in st:\n",
        "    st.append(st2[0])\n",
        "  sp += sp2\n",
        "  df1 = df1.append(df2, ignore_index=True)\n",
        "\n",
        "df11, st1 = txt_to_csv(fac[0],1)\n",
        "st += st1\n",
        "for i in range(1, len(fac)):\n",
        "  df22, st11 = txt_to_csv(fac[i],1)\n",
        "  if st11[0] not in st:\n",
        "    st.append(st11[0])\n",
        "  df11 = df11.append(df22, ignore_index=True)\n",
        "\n",
        "#создаем результирующий список\n",
        "df_res= df11.append(df1, ignore_index=True)\n",
        "# сохраняем результирующий датафрейм\n",
        "df_res.to_csv('Russia2Facility2Constellation.csv')\n",
        "\n",
        "#сортируем список\n",
        "df_res.sort_values(['Start Time', 'Stop Time'], inplace=True, ignore_index=True)\n",
        "#переводим время в секунды\n",
        "t_s0 = datetime.datetime(2027,6,1,0,0,0,0)\n",
        "df_res['Start Time'] = df_res['Start Time'].apply(lambda x: (x - t_s0).total_seconds())\n",
        "df_res['Stop Time'] = df_res['Stop Time'].apply(lambda x: (x - t_s0).total_seconds())"
      ],
      "metadata": {
        "colab": {
          "base_uri": "https://localhost:8080/"
        },
        "id": "3n0OTwC4bLnF",
        "outputId": "c1d2355f-7d8d-4d73-8412-3725c8e650bf"
      },
      "execution_count": 13,
      "outputs": [
        {
          "output_type": "stream",
          "name": "stderr",
          "text": [
            "<ipython-input-13-fa6a1810e297>:15: FutureWarning: The frame.append method is deprecated and will be removed from pandas in a future version. Use pandas.concat instead.\n",
            "  df1 = df1.append(df2, ignore_index=True)\n",
            "<ipython-input-13-fa6a1810e297>:23: FutureWarning: The frame.append method is deprecated and will be removed from pandas in a future version. Use pandas.concat instead.\n",
            "  df11 = df11.append(df22, ignore_index=True)\n",
            "<ipython-input-13-fa6a1810e297>:23: FutureWarning: The frame.append method is deprecated and will be removed from pandas in a future version. Use pandas.concat instead.\n",
            "  df11 = df11.append(df22, ignore_index=True)\n",
            "<ipython-input-13-fa6a1810e297>:23: FutureWarning: The frame.append method is deprecated and will be removed from pandas in a future version. Use pandas.concat instead.\n",
            "  df11 = df11.append(df22, ignore_index=True)\n",
            "<ipython-input-13-fa6a1810e297>:23: FutureWarning: The frame.append method is deprecated and will be removed from pandas in a future version. Use pandas.concat instead.\n",
            "  df11 = df11.append(df22, ignore_index=True)\n",
            "<ipython-input-13-fa6a1810e297>:23: FutureWarning: The frame.append method is deprecated and will be removed from pandas in a future version. Use pandas.concat instead.\n",
            "  df11 = df11.append(df22, ignore_index=True)\n",
            "<ipython-input-13-fa6a1810e297>:23: FutureWarning: The frame.append method is deprecated and will be removed from pandas in a future version. Use pandas.concat instead.\n",
            "  df11 = df11.append(df22, ignore_index=True)\n",
            "<ipython-input-13-fa6a1810e297>:23: FutureWarning: The frame.append method is deprecated and will be removed from pandas in a future version. Use pandas.concat instead.\n",
            "  df11 = df11.append(df22, ignore_index=True)\n",
            "<ipython-input-13-fa6a1810e297>:23: FutureWarning: The frame.append method is deprecated and will be removed from pandas in a future version. Use pandas.concat instead.\n",
            "  df11 = df11.append(df22, ignore_index=True)\n",
            "<ipython-input-13-fa6a1810e297>:23: FutureWarning: The frame.append method is deprecated and will be removed from pandas in a future version. Use pandas.concat instead.\n",
            "  df11 = df11.append(df22, ignore_index=True)\n",
            "<ipython-input-13-fa6a1810e297>:23: FutureWarning: The frame.append method is deprecated and will be removed from pandas in a future version. Use pandas.concat instead.\n",
            "  df11 = df11.append(df22, ignore_index=True)\n",
            "<ipython-input-13-fa6a1810e297>:23: FutureWarning: The frame.append method is deprecated and will be removed from pandas in a future version. Use pandas.concat instead.\n",
            "  df11 = df11.append(df22, ignore_index=True)\n",
            "<ipython-input-13-fa6a1810e297>:23: FutureWarning: The frame.append method is deprecated and will be removed from pandas in a future version. Use pandas.concat instead.\n",
            "  df11 = df11.append(df22, ignore_index=True)\n",
            "<ipython-input-13-fa6a1810e297>:23: FutureWarning: The frame.append method is deprecated and will be removed from pandas in a future version. Use pandas.concat instead.\n",
            "  df11 = df11.append(df22, ignore_index=True)\n",
            "<ipython-input-13-fa6a1810e297>:26: FutureWarning: The frame.append method is deprecated and will be removed from pandas in a future version. Use pandas.concat instead.\n",
            "  df_res= df11.append(df1, ignore_index=True)\n"
          ]
        }
      ]
    },
    {
      "cell_type": "markdown",
      "source": [
        "### Генерируем расписание"
      ],
      "metadata": {
        "id": "tYtVuL1DlYtx"
      }
    },
    {
      "cell_type": "code",
      "source": [
        "frame = Generator_timing(df_res, st, sp)"
      ],
      "metadata": {
        "colab": {
          "base_uri": "https://localhost:8080/"
        },
        "id": "lP_vV9Yzmx0i",
        "outputId": "d1996a4b-c8a2-4185-dce6-023e97f4d09a"
      },
      "execution_count": 14,
      "outputs": [
        {
          "output_type": "stream",
          "name": "stderr",
          "text": [
            "<ipython-input-8-ee45a79c9979>:63: DeprecationWarning: In future, it will be an error for 'np.bool_' scalars to be interpreted as an index\n",
            "  data_give = (df_r['Duration_bit'][index_s],\n"
          ]
        }
      ]
    },
    {
      "cell_type": "code",
      "source": [
        "d_Kino = sum((frame.loc[(frame['Name_station'] != 'Russia') & \n",
        " (frame['Sat name'] < 110600)]['Duration (sec)']))*1/8192\n",
        "\n",
        "d_Zor = sum((frame.loc[(frame['Name_station'] != 'Russia') & \n",
        " (frame['Sat name'] > 110600)]['Duration (sec)']))*0.25/8192\n",
        "d_Rus = sum((frame.loc[(frame['Name_station'] == 'Russia')]['Duration (sec)']))*4/8192\n",
        "print(f'Kinosat передали {round(d_Kino, 3)}ТБ')\n",
        "print(f'Zorkii передали {round(d_Zor, 3)}ТБ')\n",
        "print(f'Все спутники передали {round(d_Zor, 3) + round(d_Kino, 3)}ТБ')\n",
        "print(f'все спутники приняли {round(d_Rus, 3)}ТБ')"
      ],
      "metadata": {
        "colab": {
          "base_uri": "https://localhost:8080/"
        },
        "id": "OM8RwB_gx7FW",
        "outputId": "d8c11466-108a-4e8b-8706-49eed2cf90bf"
      },
      "execution_count": 16,
      "outputs": [
        {
          "output_type": "stream",
          "name": "stdout",
          "text": [
            "Kinosat передали 333.281ТБ\n",
            "Zorkii передали 259.22ТБ\n",
            "Все спутники передали 592.501ТБ\n",
            "все спутники приняли 654.172ТБ\n"
          ]
        }
      ]
    },
    {
      "cell_type": "markdown",
      "source": [
        "### Сохраняем рассписание в TXT "
      ],
      "metadata": {
        "id": "x5u7D9k9fxde"
      }
    },
    {
      "cell_type": "code",
      "source": [
        "#айлы начнут автоматически скачиваться на компьютер\n",
        "path = ''\n",
        "station_sp = csv2txt(frame, path, st)\n",
        "for i in station_sp: \n",
        "  files.download(i)"
      ],
      "metadata": {
        "id": "1-Is-GyCw84t"
      },
      "execution_count": 21,
      "outputs": []
    }
  ]
}